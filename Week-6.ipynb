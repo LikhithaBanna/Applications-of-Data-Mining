{
  "nbformat": 4,
  "nbformat_minor": 0,
  "metadata": {
    "colab": {
      "provenance": [],
      "authorship_tag": "ABX9TyPOyLWugJtxQkotHJN7ocGo",
      "include_colab_link": true
    },
    "kernelspec": {
      "name": "python3",
      "display_name": "Python 3"
    },
    "language_info": {
      "name": "python"
    }
  },
  "cells": [
    {
      "cell_type": "markdown",
      "metadata": {
        "id": "view-in-github",
        "colab_type": "text"
      },
      "source": [
        "<a href=\"https://colab.research.google.com/github/LikhithaBanna/Applications-of-Data-Mining/blob/main/Lab-6.ipynb\" target=\"_parent\"><img src=\"https://colab.research.google.com/assets/colab-badge.svg\" alt=\"Open In Colab\"/></a>"
      ]
    },
    {
      "cell_type": "code",
      "execution_count": 13,
      "metadata": {
        "id": "reP1YgrmILlm"
      },
      "outputs": [],
      "source": [
        "import pandas as pd\n",
        "from sklearn.preprocessing import LabelEncoder, OneHotEncoder"
      ]
    },
    {
      "cell_type": "code",
      "source": [
        "# Example data\n",
        "data = {'Category': ['A', 'B', 'C', 'A', 'B']}\n",
        "df = pd.DataFrame(data)"
      ],
      "metadata": {
        "id": "JceduvY7WCOd"
      },
      "execution_count": 14,
      "outputs": []
    },
    {
      "cell_type": "code",
      "source": [
        "# Label Encoding\n",
        "label_encoder = LabelEncoder()\n",
        "df['Label_Encoded'] = label_encoder.fit_transform(df['Category'])"
      ],
      "metadata": {
        "id": "EnGqtC0VWDg9"
      },
      "execution_count": 15,
      "outputs": []
    },
    {
      "cell_type": "code",
      "source": [
        "# One-hot Encoding\n",
        "one_hot_encoded = pd.get_dummies(df['Category'], prefix='Category')\n",
        "df = pd.concat([df, one_hot_encoded], axis=1)"
      ],
      "metadata": {
        "id": "0aNyyfFtWDZB"
      },
      "execution_count": 16,
      "outputs": []
    },
    {
      "cell_type": "code",
      "source": [
        "print(df)"
      ],
      "metadata": {
        "colab": {
          "base_uri": "https://localhost:8080/"
        },
        "id": "6Ywm16IiWDR8",
        "outputId": "a4077d6e-908f-49d8-ec0b-94638287f008"
      },
      "execution_count": 17,
      "outputs": [
        {
          "output_type": "stream",
          "name": "stdout",
          "text": [
            "  Category  Label_Encoded  Category_A  Category_B  Category_C\n",
            "0        A              0        True       False       False\n",
            "1        B              1       False        True       False\n",
            "2        C              2       False       False        True\n",
            "3        A              0        True       False       False\n",
            "4        B              1       False        True       False\n"
          ]
        }
      ]
    },
    {
      "cell_type": "code",
      "source": [
        "from datetime import datetime"
      ],
      "metadata": {
        "id": "lBqqO7TAWDIv"
      },
      "execution_count": 18,
      "outputs": []
    },
    {
      "cell_type": "code",
      "source": [
        "# Example data\n",
        "data = {'Name': ['Alice', 'Bob'], 'Date_of_Birth': ['1990-05-14', '1985-08-23']}\n",
        "df = pd.DataFrame(data)"
      ],
      "metadata": {
        "id": "FYRkPfnhWfT0"
      },
      "execution_count": 19,
      "outputs": []
    },
    {
      "cell_type": "code",
      "source": [
        "# Convert Date_of_Birth to datetime\n",
        "df['Date_of_Birth'] = pd.to_datetime(df['Date_of_Birth'])"
      ],
      "metadata": {
        "id": "HoxxjZfYWfQY"
      },
      "execution_count": 20,
      "outputs": []
    },
    {
      "cell_type": "code",
      "source": [
        "# Calculate Age\n",
        "current_year = datetime.now().year\n",
        "df['Age'] = current_year - df['Date_of_Birth'].dt.year"
      ],
      "metadata": {
        "id": "g5Hm_iCkWfM9"
      },
      "execution_count": 21,
      "outputs": []
    },
    {
      "cell_type": "code",
      "source": [
        "print(df)"
      ],
      "metadata": {
        "colab": {
          "base_uri": "https://localhost:8080/"
        },
        "id": "crM6mV0oWol3",
        "outputId": "d40f3ef4-595d-44bb-a030-04bddf715630"
      },
      "execution_count": 22,
      "outputs": [
        {
          "output_type": "stream",
          "name": "stdout",
          "text": [
            "    Name Date_of_Birth  Age\n",
            "0  Alice    1990-05-14   35\n",
            "1    Bob    1985-08-23   40\n"
          ]
        }
      ]
    },
    {
      "cell_type": "code",
      "source": [
        "# Example data\n",
        "data = {'Category': ['A', 'A', 'B', 'B', 'C'],\n",
        "'Value': [10, 20, 10, 30, 40]}\n",
        "df = pd.DataFrame(data)"
      ],
      "metadata": {
        "id": "93_12bLfWzTv"
      },
      "execution_count": 23,
      "outputs": []
    },
    {
      "cell_type": "code",
      "source": [
        "# Group by and aggregate\n",
        "grouped = df.groupby('Category').agg({'Value': ['sum', 'mean']})\n",
        "print(\"Grouped Data:\\n\", grouped)"
      ],
      "metadata": {
        "colab": {
          "base_uri": "https://localhost:8080/"
        },
        "id": "C33MEAJVWzN6",
        "outputId": "36be093e-f2cf-4448-8fa9-91d81a4ea66e"
      },
      "execution_count": 24,
      "outputs": [
        {
          "output_type": "stream",
          "name": "stdout",
          "text": [
            "Grouped Data:\n",
            "          Value      \n",
            "           sum  mean\n",
            "Category            \n",
            "A           30  15.0\n",
            "B           40  20.0\n",
            "C           40  40.0\n"
          ]
        }
      ]
    },
    {
      "cell_type": "code",
      "source": [
        "# Pivot table\n",
        "pivot = df.pivot_table(index='Category', values='Value', aggfunc=['sum', 'mean'])"
      ],
      "metadata": {
        "id": "5OJwuwi8WzIU"
      },
      "execution_count": 25,
      "outputs": []
    },
    {
      "cell_type": "code",
      "source": [
        "print(\"\\nPivot Table:\\n\", pivot)"
      ],
      "metadata": {
        "colab": {
          "base_uri": "https://localhost:8080/"
        },
        "id": "HbQKf4QbWzE6",
        "outputId": "c408076f-685b-4685-8aa5-c50b39e5da2e"
      },
      "execution_count": 26,
      "outputs": [
        {
          "output_type": "stream",
          "name": "stdout",
          "text": [
            "\n",
            "Pivot Table:\n",
            "            sum  mean\n",
            "         Value Value\n",
            "Category            \n",
            "A           30  15.0\n",
            "B           40  20.0\n",
            "C           40  40.0\n"
          ]
        }
      ]
    }
  ]
}
